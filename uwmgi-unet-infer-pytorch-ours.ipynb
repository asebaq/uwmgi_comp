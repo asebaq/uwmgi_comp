{
 "cells": [
  {
   "cell_type": "markdown",
   "id": "b4843f22",
   "metadata": {
    "papermill": {
     "duration": 0.028456,
     "end_time": "2022-04-27T20:26:15.832311",
     "exception": false,
     "start_time": "2022-04-27T20:26:15.803855",
     "status": "completed"
    },
    "tags": []
   },
   "source": [
    "# [UW-Madison GI Tract Image Segmentation](https://www.kaggle.com/competitions/uw-madison-gi-tract-image-segmentation/)\n",
    "> Track healthy organs in medical scans to improve cancer treatment\n",
    "\n",
    "<img src=\"https://storage.googleapis.com/kaggle-competitions/kaggle/27923/logos/header.png?t=2021-06-02-20-30-25\">"
   ]
  },
  {
   "cell_type": "markdown",
   "id": "39c6a47b",
   "metadata": {
    "papermill": {
     "duration": 0.026386,
     "end_time": "2022-04-27T20:26:15.885997",
     "exception": false,
     "start_time": "2022-04-27T20:26:15.859611",
     "status": "completed"
    },
    "tags": []
   },
   "source": [
    "# Methodlogy\n",
    "* In this notebook I'll demonstrate how to train **Unet** model using PyTorch.\n",
    "* For mask I'll be using pre-computed mask from [here](https://www.kaggle.com/datasets/awsaf49/uwmgi-mask-dataset)\n",
    "* As there are overlaps between **Stomach**, **Large Bowel** & **Small Bowel** classes, this is a **MultiLabel Segmentation** task, so final activaion should be `sigmoid` instead of `softmax`.\n",
    "* For data split I'll be using **StratifiedGroupFold** to avoid data leakage due to `case` and to stratify `empty` and `non-empty` mask cases.\n",
    "* You can play with different models and losses."
   ]
  },
  {
   "cell_type": "markdown",
   "id": "1dc5de89",
   "metadata": {
    "papermill": {
     "duration": 0.030161,
     "end_time": "2022-04-27T20:28:12.508712",
     "exception": false,
     "start_time": "2022-04-27T20:28:12.478551",
     "status": "completed"
    },
    "tags": []
   },
   "source": [
    "# Import Libraries "
   ]
  },
  {
   "cell_type": "code",
   "execution_count": 1,
   "id": "6ca0cfa0",
   "metadata": {
    "_kg_hide-input": true,
    "execution": {
     "iopub.execute_input": "2022-04-27T20:28:12.579202Z",
     "iopub.status.busy": "2022-04-27T20:28:12.577913Z",
     "iopub.status.idle": "2022-04-27T20:28:21.820680Z",
     "shell.execute_reply": "2022-04-27T20:28:21.820011Z",
     "shell.execute_reply.started": "2022-04-26T09:04:42.982669Z"
    },
    "papermill": {
     "duration": 9.282181,
     "end_time": "2022-04-27T20:28:21.820837",
     "exception": false,
     "start_time": "2022-04-27T20:28:12.538656",
     "status": "completed"
    },
    "tags": []
   },
   "outputs": [],
   "source": [
    "import numpy as np\n",
    "import pandas as pd\n",
    "pd.options.plotting.backend = \"plotly\"\n",
    "import random\n",
    "from glob import glob\n",
    "import os, shutil\n",
    "from tqdm import tqdm\n",
    "tqdm.pandas()\n",
    "import time\n",
    "import copy\n",
    "import joblib\n",
    "from collections import defaultdict\n",
    "import gc\n",
    "from IPython import display as ipd\n",
    "\n",
    "# visualization\n",
    "import cv2\n",
    "import matplotlib.pyplot as plt\n",
    "\n",
    "# Sklearn\n",
    "from sklearn.model_selection import StratifiedKFold, KFold\n",
    "\n",
    "# PyTorch \n",
    "import torch\n",
    "import torch.nn as nn\n",
    "import torch.optim as optim\n",
    "from torch.optim import lr_scheduler\n",
    "from torch.utils.data import Dataset, DataLoader\n",
    "from torch.cuda import amp\n",
    "import torch.nn.functional as F\n",
    "\n",
    "import timm\n",
    "\n",
    "# Albumentations for augmentations\n",
    "import albumentations as A\n",
    "from albumentations.pytorch import ToTensorV2\n",
    "\n",
    "# For colored terminal text\n",
    "from colorama import Fore, Back, Style\n",
    "c_  = Fore.GREEN\n",
    "sr_ = Style.RESET_ALL\n",
    "\n",
    "import warnings\n",
    "warnings.filterwarnings(\"ignore\")\n",
    "\n",
    "# For descriptive error messages\n",
    "os.environ['CUDA_LAUNCH_BLOCKING'] = \"1\""
   ]
  },
  {
   "cell_type": "markdown",
   "id": "5667fc95",
   "metadata": {
    "papermill": {
     "duration": 0.02814,
     "end_time": "2022-04-27T20:28:21.877237",
     "exception": false,
     "start_time": "2022-04-27T20:28:21.849097",
     "status": "completed"
    },
    "tags": []
   },
   "source": [
    "# Configuration "
   ]
  },
  {
   "cell_type": "code",
   "execution_count": 2,
   "id": "9f240b2e",
   "metadata": {
    "_kg_hide-input": true,
    "execution": {
     "iopub.execute_input": "2022-04-27T20:28:22.018920Z",
     "iopub.status.busy": "2022-04-27T20:28:22.018090Z",
     "iopub.status.idle": "2022-04-27T20:28:22.021680Z",
     "shell.execute_reply": "2022-04-27T20:28:22.020614Z",
     "shell.execute_reply.started": "2022-04-26T09:04:51.181699Z"
    },
    "papermill": {
     "duration": 0.115582,
     "end_time": "2022-04-27T20:28:22.021823",
     "exception": false,
     "start_time": "2022-04-27T20:28:21.906241",
     "status": "completed"
    },
    "tags": []
   },
   "outputs": [],
   "source": [
    "class CFG:\n",
    "    seed          = 101\n",
    "    debug         = False # set debug=False for Full Training\n",
    "    exp_name      = 'Baseline'\n",
    "    comment       = 'unet-resnet18-224x224-aug2-split2'\n",
    "    model_name    = 'Unet'\n",
    "    backbone      = 'timm-tf_efficientnet_lite0' # 'efficientnet-b1'\n",
    "    train_bs      = 64\n",
    "    valid_bs      = train_bs*2\n",
    "    img_size      = [224, 224]\n",
    "    epochs        = 15\n",
    "    lr            = 2e-3\n",
    "    scheduler     = 'CosineAnnealingLR'\n",
    "    min_lr        = 1e-6\n",
    "    T_max         = int(30000/train_bs*epochs)+50\n",
    "    T_0           = 25\n",
    "    warmup_epochs = 0\n",
    "    wd            = 1e-6\n",
    "    n_accumulate  = max(1, 32//train_bs)\n",
    "    n_fold        = 5\n",
    "    num_classes   = 3\n",
    "    device        = torch.device(\"cuda:0\" if torch.cuda.is_available() else \"cpu\")\n",
    "    thr           = 0.45\n",
    "    ttas          = [0]"
   ]
  },
  {
   "cell_type": "markdown",
   "id": "6dc49e98",
   "metadata": {
    "papermill": {
     "duration": 0.03003,
     "end_time": "2022-04-27T20:28:22.081696",
     "exception": false,
     "start_time": "2022-04-27T20:28:22.051666",
     "status": "completed"
    },
    "tags": []
   },
   "source": [
    "# Reproducibility"
   ]
  },
  {
   "cell_type": "code",
   "execution_count": 3,
   "id": "871e6ca9",
   "metadata": {
    "_kg_hide-input": true,
    "execution": {
     "iopub.execute_input": "2022-04-27T20:28:22.147399Z",
     "iopub.status.busy": "2022-04-27T20:28:22.146533Z",
     "iopub.status.idle": "2022-04-27T20:28:22.152043Z",
     "shell.execute_reply": "2022-04-27T20:28:22.152923Z",
     "shell.execute_reply.started": "2022-04-26T09:04:51.248039Z"
    },
    "papermill": {
     "duration": 0.042369,
     "end_time": "2022-04-27T20:28:22.153078",
     "exception": false,
     "start_time": "2022-04-27T20:28:22.110709",
     "status": "completed"
    },
    "tags": []
   },
   "outputs": [
    {
     "name": "stdout",
     "output_type": "stream",
     "text": [
      "> SEEDING DONE\n"
     ]
    }
   ],
   "source": [
    "def set_seed(seed = 42):\n",
    "    '''Sets the seed of the entire notebook so results are the same every time we run.\n",
    "    This is for REPRODUCIBILITY.'''\n",
    "    np.random.seed(seed)\n",
    "    random.seed(seed)\n",
    "    torch.manual_seed(seed)\n",
    "    torch.cuda.manual_seed(seed)\n",
    "    # When running on the CuDNN backend, two further options must be set\n",
    "    torch.backends.cudnn.deterministic = True\n",
    "    torch.backends.cudnn.benchmark = False\n",
    "    # Set a fixed value for the hash seed\n",
    "    os.environ['PYTHONHASHSEED'] = str(seed)\n",
    "    print('> SEEDING DONE')\n",
    "    \n",
    "set_seed(CFG.seed)"
   ]
  },
  {
   "cell_type": "markdown",
   "id": "ae76010c",
   "metadata": {
    "papermill": {
     "duration": 0.028346,
     "end_time": "2022-04-27T20:28:22.209772",
     "exception": false,
     "start_time": "2022-04-27T20:28:22.181426",
     "status": "completed"
    },
    "tags": []
   },
   "source": [
    "# Utility"
   ]
  },
  {
   "cell_type": "code",
   "execution_count": 4,
   "id": "20aacf45",
   "metadata": {
    "_kg_hide-input": true,
    "execution": {
     "iopub.execute_input": "2022-04-27T20:28:22.330392Z",
     "iopub.status.busy": "2022-04-27T20:28:22.329494Z",
     "iopub.status.idle": "2022-04-27T20:28:22.332095Z",
     "shell.execute_reply": "2022-04-27T20:28:22.331659Z",
     "shell.execute_reply.started": "2022-04-26T09:04:51.264213Z"
    },
    "papermill": {
     "duration": 0.040772,
     "end_time": "2022-04-27T20:28:22.332233",
     "exception": false,
     "start_time": "2022-04-27T20:28:22.291461",
     "status": "completed"
    },
    "tags": []
   },
   "outputs": [],
   "source": [
    "def get_metadata(row):\n",
    "    data = row['id'].split('_')\n",
    "    case = int(data[0].replace('case',''))\n",
    "    day = int(data[1].replace('day',''))\n",
    "    slice_ = int(data[-1])\n",
    "    row['case'] = case\n",
    "    row['day'] = day\n",
    "    row['slice'] = slice_\n",
    "    return row\n",
    "\n",
    "def path2info(row):\n",
    "    path = row['image_path']\n",
    "    data = path.split('/')\n",
    "    slice_ = int(data[-1].split('_')[1])\n",
    "    case = int(data[-3].split('_')[0].replace('case',''))\n",
    "    day = int(data[-3].split('_')[1].replace('day',''))\n",
    "    width = int(data[-1].split('_')[2])\n",
    "    height = int(data[-1].split('_')[3])\n",
    "    row['height'] = height\n",
    "    row['width'] = width\n",
    "    row['case'] = case\n",
    "    row['day'] = day\n",
    "    row['slice'] = slice_\n",
    "#     row['id'] = f'case{case}_day{day}_slice_{slice_}'\n",
    "    return row"
   ]
  },
  {
   "cell_type": "code",
   "execution_count": 5,
   "id": "fe522ae3",
   "metadata": {
    "_kg_hide-input": true,
    "execution": {
     "iopub.execute_input": "2022-04-27T20:28:22.399063Z",
     "iopub.status.busy": "2022-04-27T20:28:22.398195Z",
     "iopub.status.idle": "2022-04-27T20:28:22.400376Z",
     "shell.execute_reply": "2022-04-27T20:28:22.400802Z",
     "shell.execute_reply.started": "2022-04-26T09:04:51.279158Z"
    },
    "papermill": {
     "duration": 0.040301,
     "end_time": "2022-04-27T20:28:22.400977",
     "exception": false,
     "start_time": "2022-04-27T20:28:22.360676",
     "status": "completed"
    },
    "tags": []
   },
   "outputs": [],
   "source": [
    "def load_img(path):\n",
    "    img = cv2.imread(path, cv2.IMREAD_GRAYSCALE)\n",
    "    img = np.tile(img[...,None], [1, 1, 3]) # gray to rgb\n",
    "    img = img.astype('float32') # original is uint16\n",
    "    mx = np.max(img)\n",
    "    if mx:\n",
    "        img/=mx # scale image to [0, 1]\n",
    "    return img\n",
    "\n",
    "def load_msk(path):\n",
    "    msk = np.load(path)\n",
    "    msk = msk.astype('float32')\n",
    "    msk/=255.0\n",
    "    return msk\n",
    "\n",
    "def show_img(img, mask=None):\n",
    "    clahe = cv2.createCLAHE(clipLimit=2.0, tileGridSize=(8,8))\n",
    "    img = clahe.apply(img)\n",
    "    plt.imshow(img, cmap='bone')\n",
    "    \n",
    "    if mask is not None:\n",
    "        # plt.imshow(np.ma.masked_where(mask!=1, mask), alpha=0.5, cmap='autumn')\n",
    "        plt.imshow(mask, alpha=0.5)\n",
    "        handles = [Rectangle((0,0),1,1, color=_c) for _c in [(0.667,0.0,0.0), (0.0,0.667,0.0), (0.0,0.0,0.667)]]\n",
    "        labels = [\"Large Bowel\", \"Small Bowel\", \"Stomach\"]\n",
    "        plt.legend(handles,labels)\n",
    "    plt.axis('off')"
   ]
  },
  {
   "cell_type": "code",
   "execution_count": 6,
   "id": "58087e5b",
   "metadata": {
    "_kg_hide-input": true,
    "execution": {
     "iopub.execute_input": "2022-04-27T20:28:22.467785Z",
     "iopub.status.busy": "2022-04-27T20:28:22.466865Z",
     "iopub.status.idle": "2022-04-27T20:28:22.468816Z",
     "shell.execute_reply": "2022-04-27T20:28:22.469197Z",
     "shell.execute_reply.started": "2022-04-26T09:04:51.294052Z"
    },
    "papermill": {
     "duration": 0.039304,
     "end_time": "2022-04-27T20:28:22.469360",
     "exception": false,
     "start_time": "2022-04-27T20:28:22.430056",
     "status": "completed"
    },
    "tags": []
   },
   "outputs": [],
   "source": [
    "# ref: https://www.kaggle.com/paulorzp/run-length-encode-and-decode\n",
    "def rle_decode(mask_rle, shape):\n",
    "    '''\n",
    "    mask_rle: run-length as string formated (start length)\n",
    "    shape: (height,width) of array to return \n",
    "    Returns numpy array, 1 - mask, 0 - background\n",
    "\n",
    "    '''\n",
    "    s = mask_rle.split()\n",
    "    starts, lengths = [np.asarray(x, dtype=int) for x in (s[0:][::2], s[1:][::2])]\n",
    "    starts -= 1\n",
    "    ends = starts + lengths\n",
    "    img = np.zeros(shape[0]*shape[1], dtype=np.uint8)\n",
    "    for lo, hi in zip(starts, ends):\n",
    "        img[lo:hi] = 1\n",
    "    return img.reshape(shape)  # Needed to align to RLE direction\n",
    "\n",
    "\n",
    "# ref.: https://www.kaggle.com/stainsby/fast-tested-rle\n",
    "def rle_encode(img):\n",
    "    '''\n",
    "    img: numpy array, 1 - mask, 0 - background\n",
    "    Returns run length as string formated\n",
    "    '''\n",
    "    pixels = img.flatten()\n",
    "    pixels = np.concatenate([[0], pixels, [0]])\n",
    "    runs = np.where(pixels[1:] != pixels[:-1])[0] + 1\n",
    "    runs[1::2] -= runs[::2]\n",
    "    return ' '.join(str(x) for x in runs)"
   ]
  },
  {
   "cell_type": "markdown",
   "id": "f53609f5",
   "metadata": {
    "papermill": {
     "duration": 0.02818,
     "end_time": "2022-04-27T20:28:22.526240",
     "exception": false,
     "start_time": "2022-04-27T20:28:22.498060",
     "status": "completed"
    },
    "tags": []
   },
   "source": [
    "# Meta Data"
   ]
  },
  {
   "cell_type": "code",
   "execution_count": 8,
   "id": "e1730945",
   "metadata": {
    "execution": {
     "iopub.execute_input": "2022-04-27T20:28:22.587436Z",
     "iopub.status.busy": "2022-04-27T20:28:22.586563Z",
     "iopub.status.idle": "2022-04-27T20:28:22.588904Z",
     "shell.execute_reply": "2022-04-27T20:28:22.588427Z",
     "shell.execute_reply.started": "2022-04-26T09:06:28.739168Z"
    },
    "papermill": {
     "duration": 0.034568,
     "end_time": "2022-04-27T20:28:22.589014",
     "exception": false,
     "start_time": "2022-04-27T20:28:22.554446",
     "status": "completed"
    },
    "tags": []
   },
   "outputs": [],
   "source": [
    "BASE_PATH  = '/kaggle/input/uw-madison-gi-tract-image-segmentation'\n",
    "BASE_PATH  = '/mnt/Data/uw-madison-gi-tract-image-segmentation/archive/'\n",
    "CKPT_DIR = './uwmgi-unet-train-pytorch-ds'\n"
   ]
  },
  {
   "cell_type": "markdown",
   "id": "948456a8",
   "metadata": {
    "papermill": {
     "duration": 0.02855,
     "end_time": "2022-04-27T20:28:22.645739",
     "exception": false,
     "start_time": "2022-04-27T20:28:22.617189",
     "status": "completed"
    },
    "tags": []
   },
   "source": [
    "## Train"
   ]
  },
  {
   "cell_type": "code",
   "execution_count": 9,
   "id": "7358e0ce",
   "metadata": {
    "_kg_hide-input": true,
    "execution": {
     "iopub.execute_input": "2022-04-27T20:28:22.708113Z",
     "iopub.status.busy": "2022-04-27T20:28:22.707208Z",
     "iopub.status.idle": "2022-04-27T20:28:22.709132Z",
     "shell.execute_reply": "2022-04-27T20:28:22.709594Z",
     "shell.execute_reply.started": "2022-04-24T21:32:53.952458Z"
    },
    "papermill": {
     "duration": 0.035199,
     "end_time": "2022-04-27T20:28:22.709740",
     "exception": false,
     "start_time": "2022-04-27T20:28:22.674541",
     "status": "completed"
    },
    "tags": []
   },
   "outputs": [],
   "source": [
    "# df = pd.read_csv('../input/uwmgi-mask-dataset/uw-madison-gi-tract-image-segmentation/train.csv')\n",
    "# df['empty'] = df.segmentation.map(lambda x: int(pd.isna(x)))\n",
    "\n",
    "# df2 = df.groupby(['id'])['class'].agg(list).to_frame().reset_index()\n",
    "# df2 = df2.merge(df.groupby(['id'])['segmentation'].agg(list), on=['id'])\n",
    "# # df = df[['id','case','day','image_path','mask_path','height','width', 'empty']]\n",
    "\n",
    "# df = df.drop(columns=['segmentation', 'class'])\n",
    "# df = df.groupby(['id']).head(1).reset_index(drop=True)\n",
    "# df = df.merge(df2, on=['id'])\n",
    "# df.head()"
   ]
  },
  {
   "cell_type": "markdown",
   "id": "007b56a0",
   "metadata": {
    "papermill": {
     "duration": 0.027891,
     "end_time": "2022-04-27T20:28:22.765860",
     "exception": false,
     "start_time": "2022-04-27T20:28:22.737969",
     "status": "completed"
    },
    "tags": []
   },
   "source": [
    "## Test"
   ]
  },
  {
   "cell_type": "code",
   "execution_count": 10,
   "id": "98921796",
   "metadata": {
    "execution": {
     "iopub.execute_input": "2022-04-27T20:28:22.829073Z",
     "iopub.status.busy": "2022-04-27T20:28:22.828502Z",
     "iopub.status.idle": "2022-04-27T20:28:24.798812Z",
     "shell.execute_reply": "2022-04-27T20:28:24.798349Z",
     "shell.execute_reply.started": "2022-04-26T09:06:31.672652Z"
    },
    "papermill": {
     "duration": 2.004989,
     "end_time": "2022-04-27T20:28:24.798934",
     "exception": false,
     "start_time": "2022-04-27T20:28:22.793945",
     "status": "completed"
    },
    "tags": []
   },
   "outputs": [
    {
     "name": "stderr",
     "output_type": "stream",
     "text": [
      "100%|█████████████████████████████████████| 1000/1000 [00:00<00:00, 1098.00it/s]\n"
     ]
    }
   ],
   "source": [
    "sub_df = pd.read_csv('/mnt/Data/uw-madison-gi-tract-image-segmentation/sample_submission.csv')\n",
    "if not len(sub_df):\n",
    "    debug = True\n",
    "    sub_df = pd.read_csv('/mnt/Data/uw-madison-gi-tract-image-segmentation/train.csv')[:1000*3]\n",
    "    sub_df = sub_df.drop(columns=['class','segmentation']).drop_duplicates()\n",
    "else:\n",
    "    debug = False\n",
    "    sub_df = sub_df.drop(columns=['class','predicted']).drop_duplicates()\n",
    "sub_df = sub_df.progress_apply(get_metadata,axis=1)"
   ]
  },
  {
   "cell_type": "code",
   "execution_count": 13,
   "id": "21988f6f",
   "metadata": {
    "execution": {
     "iopub.execute_input": "2022-04-27T20:28:24.869981Z",
     "iopub.status.busy": "2022-04-27T20:28:24.869259Z",
     "iopub.status.idle": "2022-04-27T20:30:04.652556Z",
     "shell.execute_reply": "2022-04-27T20:30:04.652046Z",
     "shell.execute_reply.started": "2022-04-26T09:06:35.334225Z"
    },
    "papermill": {
     "duration": 99.820903,
     "end_time": "2022-04-27T20:30:04.652694",
     "exception": false,
     "start_time": "2022-04-27T20:28:24.831791",
     "status": "completed"
    },
    "tags": []
   },
   "outputs": [
    {
     "name": "stderr",
     "output_type": "stream",
     "text": [
      "100%|████████████████████████████████████| 38496/38496 [00:54<00:00, 706.77it/s]\n"
     ]
    },
    {
     "data": {
      "text/html": [
       "<div>\n",
       "<style scoped>\n",
       "    .dataframe tbody tr th:only-of-type {\n",
       "        vertical-align: middle;\n",
       "    }\n",
       "\n",
       "    .dataframe tbody tr th {\n",
       "        vertical-align: top;\n",
       "    }\n",
       "\n",
       "    .dataframe thead th {\n",
       "        text-align: right;\n",
       "    }\n",
       "</style>\n",
       "<table border=\"1\" class=\"dataframe\">\n",
       "  <thead>\n",
       "    <tr style=\"text-align: right;\">\n",
       "      <th></th>\n",
       "      <th>image_path</th>\n",
       "      <th>height</th>\n",
       "      <th>width</th>\n",
       "      <th>case</th>\n",
       "      <th>day</th>\n",
       "      <th>slice</th>\n",
       "    </tr>\n",
       "  </thead>\n",
       "  <tbody>\n",
       "    <tr>\n",
       "      <th>0</th>\n",
       "      <td>/mnt/Data/uw-madison-gi-tract-image-segmentati...</td>\n",
       "      <td>310</td>\n",
       "      <td>360</td>\n",
       "      <td>113</td>\n",
       "      <td>22</td>\n",
       "      <td>99</td>\n",
       "    </tr>\n",
       "    <tr>\n",
       "      <th>1</th>\n",
       "      <td>/mnt/Data/uw-madison-gi-tract-image-segmentati...</td>\n",
       "      <td>310</td>\n",
       "      <td>360</td>\n",
       "      <td>113</td>\n",
       "      <td>22</td>\n",
       "      <td>86</td>\n",
       "    </tr>\n",
       "    <tr>\n",
       "      <th>2</th>\n",
       "      <td>/mnt/Data/uw-madison-gi-tract-image-segmentati...</td>\n",
       "      <td>310</td>\n",
       "      <td>360</td>\n",
       "      <td>113</td>\n",
       "      <td>22</td>\n",
       "      <td>134</td>\n",
       "    </tr>\n",
       "    <tr>\n",
       "      <th>3</th>\n",
       "      <td>/mnt/Data/uw-madison-gi-tract-image-segmentati...</td>\n",
       "      <td>310</td>\n",
       "      <td>360</td>\n",
       "      <td>113</td>\n",
       "      <td>22</td>\n",
       "      <td>88</td>\n",
       "    </tr>\n",
       "    <tr>\n",
       "      <th>4</th>\n",
       "      <td>/mnt/Data/uw-madison-gi-tract-image-segmentati...</td>\n",
       "      <td>310</td>\n",
       "      <td>360</td>\n",
       "      <td>113</td>\n",
       "      <td>22</td>\n",
       "      <td>39</td>\n",
       "    </tr>\n",
       "  </tbody>\n",
       "</table>\n",
       "</div>"
      ],
      "text/plain": [
       "                                          image_path  height  width  case  \\\n",
       "0  /mnt/Data/uw-madison-gi-tract-image-segmentati...     310    360   113   \n",
       "1  /mnt/Data/uw-madison-gi-tract-image-segmentati...     310    360   113   \n",
       "2  /mnt/Data/uw-madison-gi-tract-image-segmentati...     310    360   113   \n",
       "3  /mnt/Data/uw-madison-gi-tract-image-segmentati...     310    360   113   \n",
       "4  /mnt/Data/uw-madison-gi-tract-image-segmentati...     310    360   113   \n",
       "\n",
       "   day  slice  \n",
       "0   22     99  \n",
       "1   22     86  \n",
       "2   22    134  \n",
       "3   22     88  \n",
       "4   22     39  "
      ]
     },
     "execution_count": 13,
     "metadata": {},
     "output_type": "execute_result"
    }
   ],
   "source": [
    "if debug:\n",
    "    paths = glob(f'{BASE_PATH}/png/uw-madison-gi-tract-image-segmentation/train/**/*png',recursive=True)\n",
    "#     paths = sorted(paths)\n",
    "else:\n",
    "    paths = glob(f'{BASE_PATH}/png/uw-madison-gi-tract-image-segmentation/test/**/*png',recursive=True)\n",
    "#     paths = sorted(paths)\n",
    "path_df = pd.DataFrame(paths, columns=['image_path'])\n",
    "path_df = path_df.progress_apply(path2info, axis=1)\n",
    "path_df.head()"
   ]
  },
  {
   "cell_type": "code",
   "execution_count": 14,
   "id": "3ed0c55a",
   "metadata": {},
   "outputs": [],
   "source": [
    "# def fix_img_path(p):\n",
    "#     return p.replace('/kaggle/input', os.path.join(BASE_PATH, 'png'))\n",
    "\n",
    "\n",
    "# df['image_path'] = df['image_path'].apply(fix_img_path)"
   ]
  },
  {
   "cell_type": "code",
   "execution_count": 15,
   "id": "6a24037d",
   "metadata": {
    "execution": {
     "iopub.execute_input": "2022-04-27T20:30:05.184710Z",
     "iopub.status.busy": "2022-04-27T20:30:05.183592Z",
     "iopub.status.idle": "2022-04-27T20:30:05.207371Z",
     "shell.execute_reply": "2022-04-27T20:30:05.206937Z",
     "shell.execute_reply.started": "2022-04-26T09:08:12.808627Z"
    },
    "papermill": {
     "duration": 0.291599,
     "end_time": "2022-04-27T20:30:05.207496",
     "exception": false,
     "start_time": "2022-04-27T20:30:04.915897",
     "status": "completed"
    },
    "tags": []
   },
   "outputs": [
    {
     "data": {
      "text/html": [
       "<div>\n",
       "<style scoped>\n",
       "    .dataframe tbody tr th:only-of-type {\n",
       "        vertical-align: middle;\n",
       "    }\n",
       "\n",
       "    .dataframe tbody tr th {\n",
       "        vertical-align: top;\n",
       "    }\n",
       "\n",
       "    .dataframe thead th {\n",
       "        text-align: right;\n",
       "    }\n",
       "</style>\n",
       "<table border=\"1\" class=\"dataframe\">\n",
       "  <thead>\n",
       "    <tr style=\"text-align: right;\">\n",
       "      <th></th>\n",
       "      <th>id</th>\n",
       "      <th>case</th>\n",
       "      <th>day</th>\n",
       "      <th>slice</th>\n",
       "      <th>image_path</th>\n",
       "      <th>height</th>\n",
       "      <th>width</th>\n",
       "    </tr>\n",
       "  </thead>\n",
       "  <tbody>\n",
       "    <tr>\n",
       "      <th>0</th>\n",
       "      <td>case123_day20_slice_0001</td>\n",
       "      <td>123</td>\n",
       "      <td>20</td>\n",
       "      <td>1</td>\n",
       "      <td>/mnt/Data/uw-madison-gi-tract-image-segmentati...</td>\n",
       "      <td>266</td>\n",
       "      <td>266</td>\n",
       "    </tr>\n",
       "    <tr>\n",
       "      <th>1</th>\n",
       "      <td>case123_day20_slice_0002</td>\n",
       "      <td>123</td>\n",
       "      <td>20</td>\n",
       "      <td>2</td>\n",
       "      <td>/mnt/Data/uw-madison-gi-tract-image-segmentati...</td>\n",
       "      <td>266</td>\n",
       "      <td>266</td>\n",
       "    </tr>\n",
       "    <tr>\n",
       "      <th>2</th>\n",
       "      <td>case123_day20_slice_0003</td>\n",
       "      <td>123</td>\n",
       "      <td>20</td>\n",
       "      <td>3</td>\n",
       "      <td>/mnt/Data/uw-madison-gi-tract-image-segmentati...</td>\n",
       "      <td>266</td>\n",
       "      <td>266</td>\n",
       "    </tr>\n",
       "    <tr>\n",
       "      <th>3</th>\n",
       "      <td>case123_day20_slice_0004</td>\n",
       "      <td>123</td>\n",
       "      <td>20</td>\n",
       "      <td>4</td>\n",
       "      <td>/mnt/Data/uw-madison-gi-tract-image-segmentati...</td>\n",
       "      <td>266</td>\n",
       "      <td>266</td>\n",
       "    </tr>\n",
       "    <tr>\n",
       "      <th>4</th>\n",
       "      <td>case123_day20_slice_0005</td>\n",
       "      <td>123</td>\n",
       "      <td>20</td>\n",
       "      <td>5</td>\n",
       "      <td>/mnt/Data/uw-madison-gi-tract-image-segmentati...</td>\n",
       "      <td>266</td>\n",
       "      <td>266</td>\n",
       "    </tr>\n",
       "  </tbody>\n",
       "</table>\n",
       "</div>"
      ],
      "text/plain": [
       "                         id  case  day  slice  \\\n",
       "0  case123_day20_slice_0001   123   20      1   \n",
       "1  case123_day20_slice_0002   123   20      2   \n",
       "2  case123_day20_slice_0003   123   20      3   \n",
       "3  case123_day20_slice_0004   123   20      4   \n",
       "4  case123_day20_slice_0005   123   20      5   \n",
       "\n",
       "                                          image_path  height  width  \n",
       "0  /mnt/Data/uw-madison-gi-tract-image-segmentati...     266    266  \n",
       "1  /mnt/Data/uw-madison-gi-tract-image-segmentati...     266    266  \n",
       "2  /mnt/Data/uw-madison-gi-tract-image-segmentati...     266    266  \n",
       "3  /mnt/Data/uw-madison-gi-tract-image-segmentati...     266    266  \n",
       "4  /mnt/Data/uw-madison-gi-tract-image-segmentati...     266    266  "
      ]
     },
     "execution_count": 15,
     "metadata": {},
     "output_type": "execute_result"
    }
   ],
   "source": [
    "test_df = sub_df.merge(path_df, on=['case','day','slice'], how='left')\n",
    "test_df.head()"
   ]
  },
  {
   "cell_type": "markdown",
   "id": "0140767b",
   "metadata": {
    "papermill": {
     "duration": 0.261465,
     "end_time": "2022-04-27T20:30:05.794013",
     "exception": false,
     "start_time": "2022-04-27T20:30:05.532548",
     "status": "completed"
    },
    "tags": []
   },
   "source": [
    "# Dataset"
   ]
  },
  {
   "cell_type": "code",
   "execution_count": 16,
   "id": "0d9e05d0",
   "metadata": {
    "_kg_hide-input": true,
    "execution": {
     "iopub.execute_input": "2022-04-27T20:30:06.326048Z",
     "iopub.status.busy": "2022-04-27T20:30:06.325105Z",
     "iopub.status.idle": "2022-04-27T20:30:06.327447Z",
     "shell.execute_reply": "2022-04-27T20:30:06.328072Z",
     "shell.execute_reply.started": "2022-04-26T09:10:28.756909Z"
    },
    "papermill": {
     "duration": 0.273662,
     "end_time": "2022-04-27T20:30:06.328366",
     "exception": false,
     "start_time": "2022-04-27T20:30:06.054704",
     "status": "completed"
    },
    "tags": []
   },
   "outputs": [],
   "source": [
    "class BuildDataset(torch.utils.data.Dataset):\n",
    "    def __init__(self, df, label=False, transforms=None):\n",
    "        self.df         = df\n",
    "        self.label      = label\n",
    "        self.img_paths  = df['image_path'].tolist()\n",
    "        self.ids        = df['id'].tolist()\n",
    "        if 'msk_path' in df.columns:\n",
    "            self.msk_paths  = df['mask_path'].tolist()\n",
    "        else:\n",
    "            self.msk_paths = None\n",
    "        self.transforms = transforms\n",
    "        \n",
    "    def __len__(self):\n",
    "        return len(self.df)\n",
    "    \n",
    "    def __getitem__(self, index):\n",
    "        img_path  = self.img_paths[index]\n",
    "        id_       = self.ids[index]\n",
    "        img = []\n",
    "        img = load_img(img_path)\n",
    "        h, w = img.shape[:2]\n",
    "        if self.label:\n",
    "            msk_path = self.msk_paths[index]\n",
    "            msk = load_msk(msk_path)\n",
    "            if self.transforms:\n",
    "                data = self.transforms(image=img, mask=msk)\n",
    "                img  = data['image']\n",
    "                msk  = data['mask']\n",
    "            img = np.transpose(img, (2, 0, 1))\n",
    "            msk = np.transpose(msk, (2, 0, 1))\n",
    "            return torch.tensor(img), torch.tensor(msk)\n",
    "        else:\n",
    "            if self.transforms:\n",
    "                data = self.transforms(image=img)\n",
    "                img  = data['image']\n",
    "            img = np.transpose(img, (2, 0, 1))\n",
    "            return torch.tensor(img), id_, h, w"
   ]
  },
  {
   "cell_type": "markdown",
   "id": "c9fba53f",
   "metadata": {
    "papermill": {
     "duration": 0.265555,
     "end_time": "2022-04-27T20:30:06.863682",
     "exception": false,
     "start_time": "2022-04-27T20:30:06.598127",
     "status": "completed"
    },
    "tags": []
   },
   "source": [
    "# Augmentations"
   ]
  },
  {
   "cell_type": "code",
   "execution_count": 17,
   "id": "7c4b26ea",
   "metadata": {
    "_kg_hide-input": true,
    "_kg_hide-output": true,
    "execution": {
     "iopub.execute_input": "2022-04-27T20:30:07.398982Z",
     "iopub.status.busy": "2022-04-27T20:30:07.398081Z",
     "iopub.status.idle": "2022-04-27T20:30:07.400006Z",
     "shell.execute_reply": "2022-04-27T20:30:07.400448Z",
     "shell.execute_reply.started": "2022-04-26T09:10:32.905724Z"
    },
    "papermill": {
     "duration": 0.271428,
     "end_time": "2022-04-27T20:30:07.400600",
     "exception": false,
     "start_time": "2022-04-27T20:30:07.129172",
     "status": "completed"
    },
    "tags": []
   },
   "outputs": [],
   "source": [
    "data_transforms = {\n",
    "    \"train\": A.Compose([\n",
    "        A.Resize(*CFG.img_size, interpolation=cv2.INTER_NEAREST),\n",
    "        A.HorizontalFlip(p=0.5),\n",
    "        A.VerticalFlip(p=0.5),\n",
    "#         A.ShiftScaleRotate(shift_limit=0.0625, scale_limit=0.05, rotate_limit=5, p=0.5),\n",
    "        A.OneOf([\n",
    "            A.GridDistortion(num_steps=5, distort_limit=0.05, p=1.0),\n",
    "# #             A.OpticalDistortion(distort_limit=0.05, shift_limit=0.05, p=1.0),\n",
    "            A.ElasticTransform(alpha=1, sigma=50, alpha_affine=50, p=1.0)\n",
    "        ], p=0.25),\n",
    "#         A.CoarseDropout(max_holes=8, max_height=CFG.img_size[0]//20, max_width=CFG.img_size[1]//20,\n",
    "#                          min_holes=5, fill_value=0, mask_fill_value=0, p=0.5),\n",
    "        ], p=1.0),\n",
    "    \n",
    "    \"valid\": A.Compose([\n",
    "        A.Resize(*CFG.img_size, interpolation=cv2.INTER_NEAREST),\n",
    "        ], p=1.0)\n",
    "}"
   ]
  },
  {
   "cell_type": "markdown",
   "id": "83ab2083",
   "metadata": {
    "papermill": {
     "duration": 0.258623,
     "end_time": "2022-04-27T20:30:07.925592",
     "exception": false,
     "start_time": "2022-04-27T20:30:07.666969",
     "status": "completed"
    },
    "tags": []
   },
   "source": [
    "# DataLoader"
   ]
  },
  {
   "cell_type": "code",
   "execution_count": 18,
   "id": "4ac4d158",
   "metadata": {
    "_kg_hide-input": true,
    "execution": {
     "iopub.execute_input": "2022-04-27T20:30:08.705387Z",
     "iopub.status.busy": "2022-04-27T20:30:08.704428Z",
     "iopub.status.idle": "2022-04-27T20:30:08.707346Z",
     "shell.execute_reply": "2022-04-27T20:30:08.706195Z",
     "shell.execute_reply.started": "2022-04-24T21:38:10.446983Z"
    },
    "papermill": {
     "duration": 0.508265,
     "end_time": "2022-04-27T20:30:08.707517",
     "exception": false,
     "start_time": "2022-04-27T20:30:08.199252",
     "status": "completed"
    },
    "tags": []
   },
   "outputs": [],
   "source": [
    "# test_dataset = BuildDataset(test_df, transforms=data_transforms['valid'])\n",
    "# test_loader  = DataLoader(test_dataset, batch_size=64, \n",
    "#                           num_workers=4, shuffle=False, pin_memory=True)"
   ]
  },
  {
   "cell_type": "code",
   "execution_count": 19,
   "id": "4804f84a",
   "metadata": {
    "_kg_hide-input": true,
    "execution": {
     "iopub.execute_input": "2022-04-27T20:30:09.329610Z",
     "iopub.status.busy": "2022-04-27T20:30:09.328677Z",
     "iopub.status.idle": "2022-04-27T20:30:09.330995Z",
     "shell.execute_reply": "2022-04-27T20:30:09.330503Z",
     "shell.execute_reply.started": "2022-04-24T21:38:10.84886Z"
    },
    "papermill": {
     "duration": 0.277298,
     "end_time": "2022-04-27T20:30:09.331124",
     "exception": false,
     "start_time": "2022-04-27T20:30:09.053826",
     "status": "completed"
    },
    "tags": []
   },
   "outputs": [],
   "source": [
    "# imgs, ids, (h, w) = next(iter(test_loader))\n",
    "# imgs = imgs.permute((0, 2, 3, 1))\n",
    "# imgs.size()"
   ]
  },
  {
   "cell_type": "markdown",
   "id": "7d38f4d4",
   "metadata": {
    "papermill": {
     "duration": 0.269389,
     "end_time": "2022-04-27T20:30:09.866832",
     "exception": false,
     "start_time": "2022-04-27T20:30:09.597443",
     "status": "completed"
    },
    "tags": []
   },
   "source": [
    "# Model\n"
   ]
  },
  {
   "cell_type": "code",
   "execution_count": 20,
   "id": "e58da0da",
   "metadata": {
    "_kg_hide-input": true,
    "execution": {
     "iopub.execute_input": "2022-04-27T20:30:11.219695Z",
     "iopub.status.busy": "2022-04-27T20:30:11.218773Z",
     "iopub.status.idle": "2022-04-27T20:30:12.574740Z",
     "shell.execute_reply": "2022-04-27T20:30:12.573552Z",
     "shell.execute_reply.started": "2022-04-26T09:10:36.996699Z"
    },
    "papermill": {
     "duration": 1.79277,
     "end_time": "2022-04-27T20:30:12.574887",
     "exception": false,
     "start_time": "2022-04-27T20:30:10.782117",
     "status": "completed"
    },
    "tags": []
   },
   "outputs": [],
   "source": [
    "import segmentation_models_pytorch as smp\n",
    "\n",
    "def build_model():\n",
    "    model = smp.Unet(\n",
    "        encoder_name=CFG.backbone,      # choose encoder, e.g. mobilenet_v2 or efficientnet-b7\n",
    "        encoder_weights=None,     # use `imagenet` pre-trained weights for encoder initialization\n",
    "        in_channels=3,                  # model input channels (1 for gray-scale images, 3 for RGB, etc.)\n",
    "        classes=CFG.num_classes,        # model output channels (number of classes in your dataset)\n",
    "        activation=None,\n",
    "    )\n",
    "    model.to(CFG.device)\n",
    "    return model\n",
    "\n",
    "def load_model(path):\n",
    "    model = build_model()\n",
    "    model.load_state_dict(torch.load(path))\n",
    "    model.eval()\n",
    "    return model"
   ]
  },
  {
   "cell_type": "code",
   "execution_count": 21,
   "id": "8c535440",
   "metadata": {
    "_kg_hide-input": true,
    "execution": {
     "iopub.execute_input": "2022-04-27T20:30:13.120968Z",
     "iopub.status.busy": "2022-04-27T20:30:13.120062Z",
     "iopub.status.idle": "2022-04-27T20:30:13.122338Z",
     "shell.execute_reply": "2022-04-27T20:30:13.121809Z",
     "shell.execute_reply.started": "2022-04-24T21:38:13.849666Z"
    },
    "papermill": {
     "duration": 0.267137,
     "end_time": "2022-04-27T20:30:13.122451",
     "exception": false,
     "start_time": "2022-04-27T20:30:12.855314",
     "status": "completed"
    },
    "tags": []
   },
   "outputs": [],
   "source": [
    "# # test\n",
    "# img = torch.randn(1, 1, *CFG.img_size).to(CFG.device)\n",
    "# img = (img - img.min())/(img.max() - img.min())\n",
    "# model = build_model()\n",
    "# _ = model(img)"
   ]
  },
  {
   "cell_type": "markdown",
   "id": "6e992ebe",
   "metadata": {
    "papermill": {
     "duration": 0.268324,
     "end_time": "2022-04-27T20:30:13.649298",
     "exception": false,
     "start_time": "2022-04-27T20:30:13.380974",
     "status": "completed"
    },
    "tags": []
   },
   "source": [
    "# Helper"
   ]
  },
  {
   "cell_type": "code",
   "execution_count": 23,
   "id": "878e9228",
   "metadata": {
    "_kg_hide-input": true,
    "execution": {
     "iopub.execute_input": "2022-04-27T20:30:14.196703Z",
     "iopub.status.busy": "2022-04-27T20:30:14.195878Z",
     "iopub.status.idle": "2022-04-27T20:30:15.397295Z",
     "shell.execute_reply": "2022-04-27T20:30:15.396655Z",
     "shell.execute_reply.started": "2022-04-26T09:10:40.89864Z"
    },
    "papermill": {
     "duration": 1.475475,
     "end_time": "2022-04-27T20:30:15.397468",
     "exception": false,
     "start_time": "2022-04-27T20:30:13.921993",
     "status": "completed"
    },
    "tags": []
   },
   "outputs": [],
   "source": [
    "import cupy as cp\n",
    "\n",
    "def mask2rle(msk, thr=0.5):\n",
    "    '''\n",
    "    img: numpy array, 1 - mask, 0 - background\n",
    "    Returns run length as string formated\n",
    "    '''\n",
    "    msk    = cp.array(msk)\n",
    "    pixels = msk.flatten()\n",
    "    pad    = cp.array([0])\n",
    "    pixels = cp.concatenate([pad, pixels, pad])\n",
    "    runs   = cp.where(pixels[1:] != pixels[:-1])[0] + 1\n",
    "    runs[1::2] -= runs[::2]\n",
    "    return ' '.join(str(x) for x in runs)\n",
    "\n",
    "def masks2rles(msks, ids, heights, widths):\n",
    "    pred_strings = []; pred_ids = []; pred_classes = [];\n",
    "    for idx in range(msks.shape[0]):\n",
    "        height = heights[idx].item()\n",
    "        width = widths[idx].item()\n",
    "        msk = cv2.resize(msks[idx], \n",
    "                         dsize=(width, height), \n",
    "                         interpolation=cv2.INTER_NEAREST) # back to original shape\n",
    "        rle = [None]*3\n",
    "        for midx in [0, 1, 2]:\n",
    "            rle[midx] = mask2rle(msk[...,midx])\n",
    "        pred_strings.extend(rle)\n",
    "        pred_ids.extend([ids[idx]]*len(rle))\n",
    "        pred_classes.extend(['large_bowel', 'small_bowel', 'stomach'])\n",
    "    return pred_strings, pred_ids, pred_classes"
   ]
  },
  {
   "cell_type": "markdown",
   "id": "888c13d7",
   "metadata": {
    "papermill": {
     "duration": 0.268008,
     "end_time": "2022-04-27T20:30:15.936925",
     "exception": false,
     "start_time": "2022-04-27T20:30:15.668917",
     "status": "completed"
    },
    "tags": []
   },
   "source": [
    "# Inference"
   ]
  },
  {
   "cell_type": "code",
   "execution_count": 24,
   "id": "3410465c",
   "metadata": {
    "_kg_hide-input": true,
    "execution": {
     "iopub.execute_input": "2022-04-27T20:30:16.473424Z",
     "iopub.status.busy": "2022-04-27T20:30:16.472411Z",
     "iopub.status.idle": "2022-04-27T20:30:16.474435Z",
     "shell.execute_reply": "2022-04-27T20:30:16.474860Z",
     "shell.execute_reply.started": "2022-04-26T09:10:42.724186Z"
    },
    "papermill": {
     "duration": 0.273656,
     "end_time": "2022-04-27T20:30:16.475008",
     "exception": false,
     "start_time": "2022-04-27T20:30:16.201352",
     "status": "completed"
    },
    "tags": []
   },
   "outputs": [],
   "source": [
    "@torch.no_grad()\n",
    "def infer(model_paths, test_loader, num_log=1, thr=CFG.thr):\n",
    "    msks = []; imgs = [];\n",
    "    pred_strings = []; pred_ids = []; pred_classes = [];\n",
    "    for idx, (img, ids, heights, widths) in enumerate(tqdm(test_loader, total=len(test_loader), desc='Infer ')):\n",
    "        img = img.to(CFG.device, dtype=torch.float) # .squeeze(0)\n",
    "        size = img.size()\n",
    "        msk = []\n",
    "        msk = torch.zeros((size[0], 3, size[2], size[3]), device=CFG.device, dtype=torch.float32)\n",
    "        for path in model_paths:\n",
    "            model = load_model(path)\n",
    "            out   = model(img) # .squeeze(0) # removing batch axis\n",
    "            out   = nn.Sigmoid()(out) # removing channel axis\n",
    "            msk+=out/len(model_paths)\n",
    "        msk = (msk.permute((0,2,3,1))>thr).to(torch.uint8).cpu().detach().numpy() # shape: (n, h, w, c)\n",
    "        result = masks2rles(msk, ids, heights, widths)\n",
    "        pred_strings.extend(result[0])\n",
    "        pred_ids.extend(result[1])\n",
    "        pred_classes.extend(result[2])\n",
    "        if idx<num_log:\n",
    "            img = img.permute((0,2,3,1)).cpu().detach().numpy()\n",
    "            imgs.append(img[:10])\n",
    "            msks.append(msk[:10])\n",
    "        del img, msk, out, model, result\n",
    "        gc.collect()\n",
    "        torch.cuda.empty_cache()\n",
    "    return pred_strings, pred_ids, pred_classes, imgs, msks"
   ]
  },
  {
   "cell_type": "code",
   "execution_count": 25,
   "id": "49581f32",
   "metadata": {
    "execution": {
     "iopub.execute_input": "2022-04-27T20:30:17.032681Z",
     "iopub.status.busy": "2022-04-27T20:30:17.032090Z",
     "iopub.status.idle": "2022-04-27T20:30:46.056174Z",
     "shell.execute_reply": "2022-04-27T20:30:46.056860Z",
     "shell.execute_reply.started": "2022-04-26T09:11:03.507731Z"
    },
    "papermill": {
     "duration": 29.306336,
     "end_time": "2022-04-27T20:30:46.057096",
     "exception": false,
     "start_time": "2022-04-27T20:30:16.750760",
     "status": "completed"
    },
    "tags": []
   },
   "outputs": [
    {
     "name": "stderr",
     "output_type": "stream",
     "text": [
      "Infer : 100%|█████████████████████████████████████| 8/8 [00:15<00:00,  1.93s/it]\n"
     ]
    }
   ],
   "source": [
    "test_dataset = BuildDataset(test_df, transforms=data_transforms['valid'])\n",
    "test_loader  = DataLoader(test_dataset, batch_size=CFG.valid_bs, \n",
    "                          num_workers=4, shuffle=False, pin_memory=False)\n",
    "model_paths  = glob(f'{CKPT_DIR}/best_epoch*.bin')\n",
    "pred_strings, pred_ids, pred_classes, imgs, msks = infer(model_paths, test_loader)"
   ]
  },
  {
   "cell_type": "markdown",
   "id": "5ef2d7b1",
   "metadata": {
    "papermill": {
     "duration": 0.262079,
     "end_time": "2022-04-27T20:30:46.580788",
     "exception": false,
     "start_time": "2022-04-27T20:30:46.318709",
     "status": "completed"
    },
    "tags": []
   },
   "source": [
    "# Visualization"
   ]
  },
  {
   "cell_type": "code",
   "execution_count": 26,
   "id": "d661c119",
   "metadata": {
    "_kg_hide-input": true,
    "execution": {
     "iopub.execute_input": "2022-04-27T20:30:47.123754Z",
     "iopub.status.busy": "2022-04-27T20:30:47.122850Z",
     "iopub.status.idle": "2022-04-27T20:30:48.792688Z",
     "shell.execute_reply": "2022-04-27T20:30:48.792059Z",
     "shell.execute_reply.started": "2022-04-26T09:12:59.3011Z"
    },
    "papermill": {
     "duration": 1.950729,
     "end_time": "2022-04-27T20:30:48.792832",
     "exception": false,
     "start_time": "2022-04-27T20:30:46.842103",
     "status": "completed"
    },
    "tags": []
   },
   "outputs": [
    {
     "data": {
      "image/png": "[encoded data removed]",
      "text/plain": [
       "<Figure size 864x504 with 3 Axes>"
      ]
     },
     "metadata": {
      "needs_background": "light"
     },
     "output_type": "display_data"
    },
    {
     "data": {
      "image/png": "[encoded data removed]",
      "text/plain": [
       "<Figure size 864x504 with 3 Axes>"
      ]
     },
     "metadata": {
      "needs_background": "light"
     },
     "output_type": "display_data"
    },
    {
     "data": {
      "image/png": "[encoded data removed]",
      "text/plain": [
       "<Figure size 864x504 with 3 Axes>"
      ]
     },
     "metadata": {
      "needs_background": "light"
     },
     "output_type": "display_data"
    },
    {
     "data": {
      "image/png": "[encoded data removed]",
      "text/plain": [
       "<Figure size 864x504 with 3 Axes>"
      ]
     },
     "metadata": {
      "needs_background": "light"
     },
     "output_type": "display_data"
    },
    {
     "data": {
      "image/png": "[encoded data removed]",
      "text/plain": [
       "<Figure size 864x504 with 3 Axes>"
      ]
     },
     "metadata": {
      "needs_background": "light"
     },
     "output_type": "display_data"
    }
   ],
   "source": [
    "for img, msk in zip(imgs[0][:5], msks[0][:5]):\n",
    "    plt.figure(figsize=(12, 7))\n",
    "    plt.subplot(1, 3, 1); plt.imshow(img, cmap='bone');\n",
    "    plt.axis('OFF'); plt.title('image')\n",
    "    plt.subplot(1, 3, 2); plt.imshow(msk*255); plt.axis('OFF'); plt.title('mask')\n",
    "    plt.subplot(1, 3, 3); plt.imshow(img, cmap='bone'); plt.imshow(msk*255, alpha=0.4);\n",
    "    plt.axis('OFF'); plt.title('overlay')\n",
    "    plt.tight_layout()\n",
    "    plt.show()"
   ]
  },
  {
   "cell_type": "code",
   "execution_count": 27,
   "id": "988af8bb",
   "metadata": {
    "execution": {
     "iopub.execute_input": "2022-04-27T20:30:49.585307Z",
     "iopub.status.busy": "2022-04-27T20:30:49.584203Z",
     "iopub.status.idle": "2022-04-27T20:30:49.588102Z",
     "shell.execute_reply": "2022-04-27T20:30:49.588816Z",
     "shell.execute_reply.started": "2022-04-26T09:13:03.42948Z"
    },
    "papermill": {
     "duration": 0.520127,
     "end_time": "2022-04-27T20:30:49.588966",
     "exception": false,
     "start_time": "2022-04-27T20:30:49.068839",
     "status": "completed"
    },
    "tags": []
   },
   "outputs": [
    {
     "data": {
      "text/plain": [
       "48794"
      ]
     },
     "execution_count": 27,
     "metadata": {},
     "output_type": "execute_result"
    }
   ],
   "source": [
    "del imgs, msks\n",
    "gc.collect()"
   ]
  },
  {
   "cell_type": "markdown",
   "id": "d42d0cd6",
   "metadata": {
    "papermill": {
     "duration": 0.274102,
     "end_time": "2022-04-27T20:30:50.150257",
     "exception": false,
     "start_time": "2022-04-27T20:30:49.876155",
     "status": "completed"
    },
    "tags": []
   },
   "source": [
    "# Submission"
   ]
  },
  {
   "cell_type": "code",
   "execution_count": 28,
   "id": "1b813540",
   "metadata": {
    "_kg_hide-input": true,
    "execution": {
     "iopub.execute_input": "2022-04-27T20:30:50.713832Z",
     "iopub.status.busy": "2022-04-27T20:30:50.713262Z",
     "iopub.status.idle": "2022-04-27T20:30:51.016057Z",
     "shell.execute_reply": "2022-04-27T20:30:51.016806Z",
     "shell.execute_reply.started": "2022-04-26T09:13:04.65183Z"
    },
    "papermill": {
     "duration": 0.590172,
     "end_time": "2022-04-27T20:30:51.016994",
     "exception": false,
     "start_time": "2022-04-27T20:30:50.426822",
     "status": "completed"
    },
    "tags": []
   },
   "outputs": [
    {
     "data": {
      "text/html": [
       "<div>\n",
       "<style scoped>\n",
       "    .dataframe tbody tr th:only-of-type {\n",
       "        vertical-align: middle;\n",
       "    }\n",
       "\n",
       "    .dataframe tbody tr th {\n",
       "        vertical-align: top;\n",
       "    }\n",
       "\n",
       "    .dataframe thead th {\n",
       "        text-align: right;\n",
       "    }\n",
       "</style>\n",
       "<table border=\"1\" class=\"dataframe\">\n",
       "  <thead>\n",
       "    <tr style=\"text-align: right;\">\n",
       "      <th></th>\n",
       "      <th>id</th>\n",
       "      <th>class</th>\n",
       "      <th>predicted</th>\n",
       "    </tr>\n",
       "  </thead>\n",
       "  <tbody>\n",
       "    <tr>\n",
       "      <th>0</th>\n",
       "      <td>case123_day20_slice_0001</td>\n",
       "      <td>large_bowel</td>\n",
       "      <td></td>\n",
       "    </tr>\n",
       "    <tr>\n",
       "      <th>1</th>\n",
       "      <td>case123_day20_slice_0001</td>\n",
       "      <td>small_bowel</td>\n",
       "      <td></td>\n",
       "    </tr>\n",
       "    <tr>\n",
       "      <th>2</th>\n",
       "      <td>case123_day20_slice_0001</td>\n",
       "      <td>stomach</td>\n",
       "      <td></td>\n",
       "    </tr>\n",
       "    <tr>\n",
       "      <th>3</th>\n",
       "      <td>case123_day20_slice_0002</td>\n",
       "      <td>large_bowel</td>\n",
       "      <td></td>\n",
       "    </tr>\n",
       "    <tr>\n",
       "      <th>4</th>\n",
       "      <td>case123_day20_slice_0002</td>\n",
       "      <td>small_bowel</td>\n",
       "      <td></td>\n",
       "    </tr>\n",
       "  </tbody>\n",
       "</table>\n",
       "</div>"
      ],
      "text/plain": [
       "                         id        class predicted\n",
       "0  case123_day20_slice_0001  large_bowel          \n",
       "1  case123_day20_slice_0001  small_bowel          \n",
       "2  case123_day20_slice_0001      stomach          \n",
       "3  case123_day20_slice_0002  large_bowel          \n",
       "4  case123_day20_slice_0002  small_bowel          "
      ]
     },
     "metadata": {},
     "output_type": "display_data"
    }
   ],
   "source": [
    "pred_df = pd.DataFrame({\n",
    "    \"id\":pred_ids,\n",
    "    \"class\":pred_classes,\n",
    "    \"predicted\":pred_strings\n",
    "})\n",
    "if not debug:\n",
    "    sub_df = pd.read_csv('/mnt/Data/uw-madison-gi-tract-image-segmentation/sample_submission.csv')\n",
    "    del sub_df['predicted']\n",
    "else:\n",
    "    sub_df = pd.read_csv('/mnt/Data/uw-madison-gi-tract-image-segmentation/train.csv')[:1000*3]\n",
    "    del sub_df['segmentation']\n",
    "    \n",
    "sub_df = sub_df.merge(pred_df, on=['id','class'])\n",
    "sub_df.to_csv('submission.csv',index=False)\n",
    "display(sub_df.head(5))"
   ]
  },
  {
   "cell_type": "code",
   "execution_count": null,
   "id": "95a4fa40",
   "metadata": {
    "papermill": {
     "duration": 0.278184,
     "end_time": "2022-04-27T20:30:51.576480",
     "exception": false,
     "start_time": "2022-04-27T20:30:51.298296",
     "status": "completed"
    },
    "tags": []
   },
   "outputs": [],
   "source": []
  }
 ],
 "metadata": {
  "kernelspec": {
   "display_name": "Python 3 (ipykernel)",
   "language": "python",
   "name": "python3"
  },
  "language_info": {
   "codemirror_mode": {
    "name": "ipython",
    "version": 3
   },
   "file_extension": ".py",
   "mimetype": "text/x-python",
   "name": "python",
   "nbconvert_exporter": "python",
   "pygments_lexer": "ipython3",
   "version": "3.7.13"
  },
  "papermill": {
   "default_parameters": {},
   "duration": 287.805076,
   "end_time": "2022-04-27T20:30:55.518807",
   "environment_variables": {},
   "exception": null,
   "input_path": "__notebook__.ipynb",
   "output_path": "__notebook__.ipynb",
   "parameters": {},
   "start_time": "2022-04-27T20:26:07.713731",
   "version": "2.3.3"
  }
 },
 "nbformat": 4,
 "nbformat_minor": 5
}
